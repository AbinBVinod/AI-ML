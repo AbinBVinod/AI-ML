{
 "cells": [
  {
   "cell_type": "markdown",
   "metadata": {},
   "source": [
    "# Project 1 : Predicting the sales of New Tv from different marketing mode : TV, Radio, newspaper for sony company "
   ]
  },
  {
   "cell_type": "markdown",
   "metadata": {},
   "source": [
    "#### Step 1 : "
   ]
  },
  {
   "cell_type": "code",
   "execution_count": 10,
   "metadata": {},
   "outputs": [],
   "source": [
    "import pandas as pd \n",
    "\n",
    "url = r\"D:.csv\"\n",
    "data = pd.read_csv(url)"
   ]
  },
  {
   "cell_type": "code",
   "execution_count": 2,
   "metadata": {},
   "outputs": [
    {
     "data": {
      "text/html": [
       "<div>\n",
       "<style scoped>\n",
       "    .dataframe tbody tr th:only-of-type {\n",
       "        vertical-align: middle;\n",
       "    }\n",
       "\n",
       "    .dataframe tbody tr th {\n",
       "        vertical-align: top;\n",
       "    }\n",
       "\n",
       "    .dataframe thead th {\n",
       "        text-align: right;\n",
       "    }\n",
       "</style>\n",
       "<table border=\"1\" class=\"dataframe\">\n",
       "  <thead>\n",
       "    <tr style=\"text-align: right;\">\n",
       "      <th></th>\n",
       "      <th>Unnamed: 0</th>\n",
       "      <th>TV</th>\n",
       "      <th>radio</th>\n",
       "      <th>newspaper</th>\n",
       "      <th>sales</th>\n",
       "    </tr>\n",
       "  </thead>\n",
       "  <tbody>\n",
       "    <tr>\n",
       "      <th>0</th>\n",
       "      <td>1</td>\n",
       "      <td>230.1</td>\n",
       "      <td>37.8</td>\n",
       "      <td>69.2</td>\n",
       "      <td>22.1</td>\n",
       "    </tr>\n",
       "    <tr>\n",
       "      <th>1</th>\n",
       "      <td>2</td>\n",
       "      <td>44.5</td>\n",
       "      <td>39.3</td>\n",
       "      <td>45.1</td>\n",
       "      <td>10.4</td>\n",
       "    </tr>\n",
       "    <tr>\n",
       "      <th>2</th>\n",
       "      <td>3</td>\n",
       "      <td>17.2</td>\n",
       "      <td>45.9</td>\n",
       "      <td>69.3</td>\n",
       "      <td>9.3</td>\n",
       "    </tr>\n",
       "    <tr>\n",
       "      <th>3</th>\n",
       "      <td>4</td>\n",
       "      <td>151.5</td>\n",
       "      <td>41.3</td>\n",
       "      <td>58.5</td>\n",
       "      <td>18.5</td>\n",
       "    </tr>\n",
       "    <tr>\n",
       "      <th>4</th>\n",
       "      <td>5</td>\n",
       "      <td>180.8</td>\n",
       "      <td>10.8</td>\n",
       "      <td>58.4</td>\n",
       "      <td>12.9</td>\n",
       "    </tr>\n",
       "  </tbody>\n",
       "</table>\n",
       "</div>"
      ],
      "text/plain": [
       "   Unnamed: 0     TV  radio  newspaper  sales\n",
       "0           1  230.1   37.8       69.2   22.1\n",
       "1           2   44.5   39.3       45.1   10.4\n",
       "2           3   17.2   45.9       69.3    9.3\n",
       "3           4  151.5   41.3       58.5   18.5\n",
       "4           5  180.8   10.8       58.4   12.9"
      ]
     },
     "execution_count": 2,
     "metadata": {},
     "output_type": "execute_result"
    }
   ],
   "source": [
    "data.head()"
   ]
  },
  {
   "cell_type": "markdown",
   "metadata": {},
   "source": [
    "### Step 2 : Analyzing a dataset : data preprocessing "
   ]
  },
  {
   "cell_type": "code",
   "execution_count": 3,
   "metadata": {},
   "outputs": [
    {
     "data": {
      "text/plain": [
       "Unnamed: 0    0\n",
       "TV            0\n",
       "radio         0\n",
       "newspaper     0\n",
       "sales         0\n",
       "dtype: int64"
      ]
     },
     "execution_count": 3,
     "metadata": {},
     "output_type": "execute_result"
    }
   ],
   "source": [
    "data.isnull().sum()   # no missing values "
   ]
  },
  {
   "cell_type": "code",
   "execution_count": 4,
   "metadata": {},
   "outputs": [
    {
     "data": {
      "text/plain": [
       "(200, 5)"
      ]
     },
     "execution_count": 4,
     "metadata": {},
     "output_type": "execute_result"
    }
   ],
   "source": [
    "data.shape    # 200 rows (instance) & 5 columns "
   ]
  },
  {
   "cell_type": "code",
   "execution_count": 5,
   "metadata": {},
   "outputs": [
    {
     "data": {
      "text/plain": [
       "Unnamed: 0      int64\n",
       "TV            float64\n",
       "radio         float64\n",
       "newspaper     float64\n",
       "sales         float64\n",
       "dtype: object"
      ]
     },
     "execution_count": 5,
     "metadata": {},
     "output_type": "execute_result"
    }
   ],
   "source": [
    "data.dtypes"
   ]
  },
  {
   "cell_type": "markdown",
   "metadata": {},
   "source": [
    "#### Step 3 : Separated the dataset to input feature and output features "
   ]
  },
  {
   "cell_type": "code",
   "execution_count": 11,
   "metadata": {},
   "outputs": [],
   "source": [
    "X = data.iloc[:,1:-1].values     # iloc -> index location iloc [ row,column]  X -> input features \n",
    "Y = data.iloc[:, -1].values      # Y -> output features "
   ]
  },
  {
   "cell_type": "code",
   "execution_count": 13,
   "metadata": {},
   "outputs": [
    {
     "data": {
      "text/plain": [
       "array([[230.1,  37.8,  69.2],\n",
       "       [ 44.5,  39.3,  45.1],\n",
       "       [ 17.2,  45.9,  69.3],\n",
       "       [151.5,  41.3,  58.5],\n",
       "       [180.8,  10.8,  58.4],\n",
       "       [  8.7,  48.9,  75. ],\n",
       "       [ 57.5,  32.8,  23.5],\n",
       "       [120.2,  19.6,  11.6],\n",
       "       [  8.6,   2.1,   1. ],\n",
       "       [199.8,   2.6,  21.2],\n",
       "       [ 66.1,   5.8,  24.2],\n",
       "       [214.7,  24. ,   4. ],\n",
       "       [ 23.8,  35.1,  65.9],\n",
       "       [ 97.5,   7.6,   7.2],\n",
       "       [204.1,  32.9,  46. ],\n",
       "       [195.4,  47.7,  52.9],\n",
       "       [ 67.8,  36.6, 114. ],\n",
       "       [281.4,  39.6,  55.8],\n",
       "       [ 69.2,  20.5,  18.3],\n",
       "       [147.3,  23.9,  19.1],\n",
       "       [218.4,  27.7,  53.4],\n",
       "       [237.4,   5.1,  23.5],\n",
       "       [ 13.2,  15.9,  49.6],\n",
       "       [228.3,  16.9,  26.2],\n",
       "       [ 62.3,  12.6,  18.3],\n",
       "       [262.9,   3.5,  19.5],\n",
       "       [142.9,  29.3,  12.6],\n",
       "       [240.1,  16.7,  22.9],\n",
       "       [248.8,  27.1,  22.9],\n",
       "       [ 70.6,  16. ,  40.8],\n",
       "       [292.9,  28.3,  43.2],\n",
       "       [112.9,  17.4,  38.6],\n",
       "       [ 97.2,   1.5,  30. ],\n",
       "       [265.6,  20. ,   0.3],\n",
       "       [ 95.7,   1.4,   7.4],\n",
       "       [290.7,   4.1,   8.5],\n",
       "       [266.9,  43.8,   5. ],\n",
       "       [ 74.7,  49.4,  45.7],\n",
       "       [ 43.1,  26.7,  35.1],\n",
       "       [228. ,  37.7,  32. ],\n",
       "       [202.5,  22.3,  31.6],\n",
       "       [177. ,  33.4,  38.7],\n",
       "       [293.6,  27.7,   1.8],\n",
       "       [206.9,   8.4,  26.4],\n",
       "       [ 25.1,  25.7,  43.3],\n",
       "       [175.1,  22.5,  31.5],\n",
       "       [ 89.7,   9.9,  35.7],\n",
       "       [239.9,  41.5,  18.5],\n",
       "       [227.2,  15.8,  49.9],\n",
       "       [ 66.9,  11.7,  36.8],\n",
       "       [199.8,   3.1,  34.6],\n",
       "       [100.4,   9.6,   3.6],\n",
       "       [216.4,  41.7,  39.6],\n",
       "       [182.6,  46.2,  58.7],\n",
       "       [262.7,  28.8,  15.9],\n",
       "       [198.9,  49.4,  60. ],\n",
       "       [  7.3,  28.1,  41.4],\n",
       "       [136.2,  19.2,  16.6],\n",
       "       [210.8,  49.6,  37.7],\n",
       "       [210.7,  29.5,   9.3],\n",
       "       [ 53.5,   2. ,  21.4],\n",
       "       [261.3,  42.7,  54.7],\n",
       "       [239.3,  15.5,  27.3],\n",
       "       [102.7,  29.6,   8.4],\n",
       "       [131.1,  42.8,  28.9],\n",
       "       [ 69. ,   9.3,   0.9],\n",
       "       [ 31.5,  24.6,   2.2],\n",
       "       [139.3,  14.5,  10.2],\n",
       "       [237.4,  27.5,  11. ],\n",
       "       [216.8,  43.9,  27.2],\n",
       "       [199.1,  30.6,  38.7],\n",
       "       [109.8,  14.3,  31.7],\n",
       "       [ 26.8,  33. ,  19.3],\n",
       "       [129.4,   5.7,  31.3],\n",
       "       [213.4,  24.6,  13.1],\n",
       "       [ 16.9,  43.7,  89.4],\n",
       "       [ 27.5,   1.6,  20.7],\n",
       "       [120.5,  28.5,  14.2],\n",
       "       [  5.4,  29.9,   9.4],\n",
       "       [116. ,   7.7,  23.1],\n",
       "       [ 76.4,  26.7,  22.3],\n",
       "       [239.8,   4.1,  36.9],\n",
       "       [ 75.3,  20.3,  32.5],\n",
       "       [ 68.4,  44.5,  35.6],\n",
       "       [213.5,  43. ,  33.8],\n",
       "       [193.2,  18.4,  65.7],\n",
       "       [ 76.3,  27.5,  16. ],\n",
       "       [110.7,  40.6,  63.2],\n",
       "       [ 88.3,  25.5,  73.4],\n",
       "       [109.8,  47.8,  51.4],\n",
       "       [134.3,   4.9,   9.3],\n",
       "       [ 28.6,   1.5,  33. ],\n",
       "       [217.7,  33.5,  59. ],\n",
       "       [250.9,  36.5,  72.3],\n",
       "       [107.4,  14. ,  10.9],\n",
       "       [163.3,  31.6,  52.9],\n",
       "       [197.6,   3.5,   5.9],\n",
       "       [184.9,  21. ,  22. ],\n",
       "       [289.7,  42.3,  51.2],\n",
       "       [135.2,  41.7,  45.9],\n",
       "       [222.4,   4.3,  49.8],\n",
       "       [296.4,  36.3, 100.9],\n",
       "       [280.2,  10.1,  21.4],\n",
       "       [187.9,  17.2,  17.9],\n",
       "       [238.2,  34.3,   5.3],\n",
       "       [137.9,  46.4,  59. ],\n",
       "       [ 25. ,  11. ,  29.7],\n",
       "       [ 90.4,   0.3,  23.2],\n",
       "       [ 13.1,   0.4,  25.6],\n",
       "       [255.4,  26.9,   5.5],\n",
       "       [225.8,   8.2,  56.5],\n",
       "       [241.7,  38. ,  23.2],\n",
       "       [175.7,  15.4,   2.4],\n",
       "       [209.6,  20.6,  10.7],\n",
       "       [ 78.2,  46.8,  34.5],\n",
       "       [ 75.1,  35. ,  52.7],\n",
       "       [139.2,  14.3,  25.6],\n",
       "       [ 76.4,   0.8,  14.8],\n",
       "       [125.7,  36.9,  79.2],\n",
       "       [ 19.4,  16. ,  22.3],\n",
       "       [141.3,  26.8,  46.2],\n",
       "       [ 18.8,  21.7,  50.4],\n",
       "       [224. ,   2.4,  15.6],\n",
       "       [123.1,  34.6,  12.4],\n",
       "       [229.5,  32.3,  74.2],\n",
       "       [ 87.2,  11.8,  25.9],\n",
       "       [  7.8,  38.9,  50.6],\n",
       "       [ 80.2,   0. ,   9.2],\n",
       "       [220.3,  49. ,   3.2],\n",
       "       [ 59.6,  12. ,  43.1],\n",
       "       [  0.7,  39.6,   8.7],\n",
       "       [265.2,   2.9,  43. ],\n",
       "       [  8.4,  27.2,   2.1],\n",
       "       [219.8,  33.5,  45.1],\n",
       "       [ 36.9,  38.6,  65.6],\n",
       "       [ 48.3,  47. ,   8.5],\n",
       "       [ 25.6,  39. ,   9.3],\n",
       "       [273.7,  28.9,  59.7],\n",
       "       [ 43. ,  25.9,  20.5],\n",
       "       [184.9,  43.9,   1.7],\n",
       "       [ 73.4,  17. ,  12.9],\n",
       "       [193.7,  35.4,  75.6],\n",
       "       [220.5,  33.2,  37.9],\n",
       "       [104.6,   5.7,  34.4],\n",
       "       [ 96.2,  14.8,  38.9],\n",
       "       [140.3,   1.9,   9. ],\n",
       "       [240.1,   7.3,   8.7],\n",
       "       [243.2,  49. ,  44.3],\n",
       "       [ 38. ,  40.3,  11.9],\n",
       "       [ 44.7,  25.8,  20.6],\n",
       "       [280.7,  13.9,  37. ],\n",
       "       [121. ,   8.4,  48.7],\n",
       "       [197.6,  23.3,  14.2],\n",
       "       [171.3,  39.7,  37.7],\n",
       "       [187.8,  21.1,   9.5],\n",
       "       [  4.1,  11.6,   5.7],\n",
       "       [ 93.9,  43.5,  50.5],\n",
       "       [149.8,   1.3,  24.3],\n",
       "       [ 11.7,  36.9,  45.2],\n",
       "       [131.7,  18.4,  34.6],\n",
       "       [172.5,  18.1,  30.7],\n",
       "       [ 85.7,  35.8,  49.3],\n",
       "       [188.4,  18.1,  25.6],\n",
       "       [163.5,  36.8,   7.4],\n",
       "       [117.2,  14.7,   5.4],\n",
       "       [234.5,   3.4,  84.8],\n",
       "       [ 17.9,  37.6,  21.6],\n",
       "       [206.8,   5.2,  19.4],\n",
       "       [215.4,  23.6,  57.6],\n",
       "       [284.3,  10.6,   6.4],\n",
       "       [ 50. ,  11.6,  18.4],\n",
       "       [164.5,  20.9,  47.4],\n",
       "       [ 19.6,  20.1,  17. ],\n",
       "       [168.4,   7.1,  12.8],\n",
       "       [222.4,   3.4,  13.1],\n",
       "       [276.9,  48.9,  41.8],\n",
       "       [248.4,  30.2,  20.3],\n",
       "       [170.2,   7.8,  35.2],\n",
       "       [276.7,   2.3,  23.7],\n",
       "       [165.6,  10. ,  17.6],\n",
       "       [156.6,   2.6,   8.3],\n",
       "       [218.5,   5.4,  27.4],\n",
       "       [ 56.2,   5.7,  29.7],\n",
       "       [287.6,  43. ,  71.8],\n",
       "       [253.8,  21.3,  30. ],\n",
       "       [205. ,  45.1,  19.6],\n",
       "       [139.5,   2.1,  26.6],\n",
       "       [191.1,  28.7,  18.2],\n",
       "       [286. ,  13.9,   3.7],\n",
       "       [ 18.7,  12.1,  23.4],\n",
       "       [ 39.5,  41.1,   5.8],\n",
       "       [ 75.5,  10.8,   6. ],\n",
       "       [ 17.2,   4.1,  31.6],\n",
       "       [166.8,  42. ,   3.6],\n",
       "       [149.7,  35.6,   6. ],\n",
       "       [ 38.2,   3.7,  13.8],\n",
       "       [ 94.2,   4.9,   8.1],\n",
       "       [177. ,   9.3,   6.4],\n",
       "       [283.6,  42. ,  66.2],\n",
       "       [232.1,   8.6,   8.7]])"
      ]
     },
     "execution_count": 13,
     "metadata": {},
     "output_type": "execute_result"
    }
   ],
   "source": [
    "X"
   ]
  },
  {
   "cell_type": "markdown",
   "metadata": {},
   "source": [
    "### Step 4: Spliting the X, Y into training & testing dataset "
   ]
  },
  {
   "cell_type": "code",
   "execution_count": 15,
   "metadata": {},
   "outputs": [],
   "source": [
    "from sklearn.model_selection import train_test_split\n",
    "\n",
    "X_train, X_test, Y_train, Y_test = train_test_split(X, Y, train_size = 0.8, random_state = 0)"
   ]
  },
  {
   "cell_type": "code",
   "execution_count": 16,
   "metadata": {},
   "outputs": [
    {
     "data": {
      "text/plain": [
       "(160, 3)"
      ]
     },
     "execution_count": 16,
     "metadata": {},
     "output_type": "execute_result"
    }
   ],
   "source": [
    "X_train.shape"
   ]
  },
  {
   "cell_type": "code",
   "execution_count": 17,
   "metadata": {},
   "outputs": [
    {
     "data": {
      "text/plain": [
       "(40, 3)"
      ]
     },
     "execution_count": 17,
     "metadata": {},
     "output_type": "execute_result"
    }
   ],
   "source": [
    "X_test.shape"
   ]
  },
  {
   "cell_type": "markdown",
   "metadata": {},
   "source": [
    "#### Step 5 : Linear regression Algorithm "
   ]
  },
  {
   "cell_type": "code",
   "execution_count": 18,
   "metadata": {},
   "outputs": [],
   "source": [
    "from sklearn.linear_model import LinearRegression"
   ]
  },
  {
   "cell_type": "code",
   "execution_count": 19,
   "metadata": {},
   "outputs": [
    {
     "data": {
      "text/plain": [
       "LinearRegression()"
      ]
     },
     "execution_count": 19,
     "metadata": {},
     "output_type": "execute_result"
    }
   ],
   "source": [
    "regressor = LinearRegression()   # object of a class name LinearRegression\n",
    "regressor.fit(X_train, Y_train)"
   ]
  },
  {
   "cell_type": "markdown",
   "metadata": {},
   "source": [
    "#### Step 6: Predict on the testing dataset "
   ]
  },
  {
   "cell_type": "code",
   "execution_count": 20,
   "metadata": {},
   "outputs": [],
   "source": [
    "Y_predict = regressor.predict(X_test)"
   ]
  },
  {
   "cell_type": "code",
   "execution_count": 22,
   "metadata": {},
   "outputs": [
    {
     "name": "stdout",
     "output_type": "stream",
     "text": [
      "Accuracy level is = 86.01145185017869 %\n"
     ]
    }
   ],
   "source": [
    "print(\"Accuracy level is =\", regressor.score(X_test, Y_test)*100, \"%\")"
   ]
  },
  {
   "cell_type": "code",
   "execution_count": 23,
   "metadata": {},
   "outputs": [
    {
     "name": "stdout",
     "output_type": "stream",
     "text": [
      "Accuracy level is = 100.0 %\n"
     ]
    }
   ],
   "source": [
    "print(\"Accuracy level is =\", regressor.score(X_test, Y_predict)*100, \"%\")"
   ]
  },
  {
   "cell_type": "code",
   "execution_count": 26,
   "metadata": {},
   "outputs": [
    {
     "data": {
      "text/plain": [
       "array([ 0.04458402,  0.19649703, -0.00278146])"
      ]
     },
     "execution_count": 26,
     "metadata": {},
     "output_type": "execute_result"
    }
   ],
   "source": [
    "regressor.coef_    # this are the coefficients which helps us to create a slope "
   ]
  },
  {
   "cell_type": "code",
   "execution_count": 27,
   "metadata": {},
   "outputs": [
    {
     "data": {
      "text/plain": [
       "2.9948930304953247"
      ]
     },
     "execution_count": 27,
     "metadata": {},
     "output_type": "execute_result"
    }
   ],
   "source": [
    "regressor.intercept_  # Intercept is not zero "
   ]
  },
  {
   "cell_type": "markdown",
   "metadata": {},
   "source": [
    "###### Now i want you guys to X = TV and Y = Sale \n",
    "##### Simple Linear Regression "
   ]
  },
  {
   "cell_type": "code",
   "execution_count": 36,
   "metadata": {},
   "outputs": [],
   "source": [
    "X = data.iloc[:, 1:2].values\n",
    "Y = data.iloc[:, -1].values"
   ]
  },
  {
   "cell_type": "code",
   "execution_count": 37,
   "metadata": {},
   "outputs": [
    {
     "data": {
      "text/plain": [
       "array([[230.1],\n",
       "       [ 44.5],\n",
       "       [ 17.2],\n",
       "       [151.5],\n",
       "       [180.8],\n",
       "       [  8.7],\n",
       "       [ 57.5],\n",
       "       [120.2],\n",
       "       [  8.6],\n",
       "       [199.8],\n",
       "       [ 66.1],\n",
       "       [214.7],\n",
       "       [ 23.8],\n",
       "       [ 97.5],\n",
       "       [204.1],\n",
       "       [195.4],\n",
       "       [ 67.8],\n",
       "       [281.4],\n",
       "       [ 69.2],\n",
       "       [147.3],\n",
       "       [218.4],\n",
       "       [237.4],\n",
       "       [ 13.2],\n",
       "       [228.3],\n",
       "       [ 62.3],\n",
       "       [262.9],\n",
       "       [142.9],\n",
       "       [240.1],\n",
       "       [248.8],\n",
       "       [ 70.6],\n",
       "       [292.9],\n",
       "       [112.9],\n",
       "       [ 97.2],\n",
       "       [265.6],\n",
       "       [ 95.7],\n",
       "       [290.7],\n",
       "       [266.9],\n",
       "       [ 74.7],\n",
       "       [ 43.1],\n",
       "       [228. ],\n",
       "       [202.5],\n",
       "       [177. ],\n",
       "       [293.6],\n",
       "       [206.9],\n",
       "       [ 25.1],\n",
       "       [175.1],\n",
       "       [ 89.7],\n",
       "       [239.9],\n",
       "       [227.2],\n",
       "       [ 66.9],\n",
       "       [199.8],\n",
       "       [100.4],\n",
       "       [216.4],\n",
       "       [182.6],\n",
       "       [262.7],\n",
       "       [198.9],\n",
       "       [  7.3],\n",
       "       [136.2],\n",
       "       [210.8],\n",
       "       [210.7],\n",
       "       [ 53.5],\n",
       "       [261.3],\n",
       "       [239.3],\n",
       "       [102.7],\n",
       "       [131.1],\n",
       "       [ 69. ],\n",
       "       [ 31.5],\n",
       "       [139.3],\n",
       "       [237.4],\n",
       "       [216.8],\n",
       "       [199.1],\n",
       "       [109.8],\n",
       "       [ 26.8],\n",
       "       [129.4],\n",
       "       [213.4],\n",
       "       [ 16.9],\n",
       "       [ 27.5],\n",
       "       [120.5],\n",
       "       [  5.4],\n",
       "       [116. ],\n",
       "       [ 76.4],\n",
       "       [239.8],\n",
       "       [ 75.3],\n",
       "       [ 68.4],\n",
       "       [213.5],\n",
       "       [193.2],\n",
       "       [ 76.3],\n",
       "       [110.7],\n",
       "       [ 88.3],\n",
       "       [109.8],\n",
       "       [134.3],\n",
       "       [ 28.6],\n",
       "       [217.7],\n",
       "       [250.9],\n",
       "       [107.4],\n",
       "       [163.3],\n",
       "       [197.6],\n",
       "       [184.9],\n",
       "       [289.7],\n",
       "       [135.2],\n",
       "       [222.4],\n",
       "       [296.4],\n",
       "       [280.2],\n",
       "       [187.9],\n",
       "       [238.2],\n",
       "       [137.9],\n",
       "       [ 25. ],\n",
       "       [ 90.4],\n",
       "       [ 13.1],\n",
       "       [255.4],\n",
       "       [225.8],\n",
       "       [241.7],\n",
       "       [175.7],\n",
       "       [209.6],\n",
       "       [ 78.2],\n",
       "       [ 75.1],\n",
       "       [139.2],\n",
       "       [ 76.4],\n",
       "       [125.7],\n",
       "       [ 19.4],\n",
       "       [141.3],\n",
       "       [ 18.8],\n",
       "       [224. ],\n",
       "       [123.1],\n",
       "       [229.5],\n",
       "       [ 87.2],\n",
       "       [  7.8],\n",
       "       [ 80.2],\n",
       "       [220.3],\n",
       "       [ 59.6],\n",
       "       [  0.7],\n",
       "       [265.2],\n",
       "       [  8.4],\n",
       "       [219.8],\n",
       "       [ 36.9],\n",
       "       [ 48.3],\n",
       "       [ 25.6],\n",
       "       [273.7],\n",
       "       [ 43. ],\n",
       "       [184.9],\n",
       "       [ 73.4],\n",
       "       [193.7],\n",
       "       [220.5],\n",
       "       [104.6],\n",
       "       [ 96.2],\n",
       "       [140.3],\n",
       "       [240.1],\n",
       "       [243.2],\n",
       "       [ 38. ],\n",
       "       [ 44.7],\n",
       "       [280.7],\n",
       "       [121. ],\n",
       "       [197.6],\n",
       "       [171.3],\n",
       "       [187.8],\n",
       "       [  4.1],\n",
       "       [ 93.9],\n",
       "       [149.8],\n",
       "       [ 11.7],\n",
       "       [131.7],\n",
       "       [172.5],\n",
       "       [ 85.7],\n",
       "       [188.4],\n",
       "       [163.5],\n",
       "       [117.2],\n",
       "       [234.5],\n",
       "       [ 17.9],\n",
       "       [206.8],\n",
       "       [215.4],\n",
       "       [284.3],\n",
       "       [ 50. ],\n",
       "       [164.5],\n",
       "       [ 19.6],\n",
       "       [168.4],\n",
       "       [222.4],\n",
       "       [276.9],\n",
       "       [248.4],\n",
       "       [170.2],\n",
       "       [276.7],\n",
       "       [165.6],\n",
       "       [156.6],\n",
       "       [218.5],\n",
       "       [ 56.2],\n",
       "       [287.6],\n",
       "       [253.8],\n",
       "       [205. ],\n",
       "       [139.5],\n",
       "       [191.1],\n",
       "       [286. ],\n",
       "       [ 18.7],\n",
       "       [ 39.5],\n",
       "       [ 75.5],\n",
       "       [ 17.2],\n",
       "       [166.8],\n",
       "       [149.7],\n",
       "       [ 38.2],\n",
       "       [ 94.2],\n",
       "       [177. ],\n",
       "       [283.6],\n",
       "       [232.1]])"
      ]
     },
     "execution_count": 37,
     "metadata": {},
     "output_type": "execute_result"
    }
   ],
   "source": [
    "X"
   ]
  },
  {
   "cell_type": "code",
   "execution_count": 39,
   "metadata": {},
   "outputs": [],
   "source": [
    "from sklearn.model_selection import train_test_split\n",
    "\n",
    "X_train, X_test, Y_train, Y_test = train_test_split(X, Y, train_size = 0.8, random_state = 0)"
   ]
  },
  {
   "cell_type": "code",
   "execution_count": 40,
   "metadata": {},
   "outputs": [
    {
     "data": {
      "text/plain": [
       "LinearRegression()"
      ]
     },
     "execution_count": 40,
     "metadata": {},
     "output_type": "execute_result"
    }
   ],
   "source": [
    "from sklearn.linear_model import LinearRegression\n",
    "regressor1 = LinearRegression()   # object of a class name LinearRegression\n",
    "regressor1.fit(X_train, Y_train)"
   ]
  },
  {
   "cell_type": "code",
   "execution_count": 42,
   "metadata": {},
   "outputs": [],
   "source": [
    "Y_predict = regressor1.predict(X_test)"
   ]
  },
  {
   "cell_type": "code",
   "execution_count": 44,
   "metadata": {},
   "outputs": [
    {
     "name": "stdout",
     "output_type": "stream",
     "text": [
      "Accuracy level is = 67.6315157793972 %\n"
     ]
    }
   ],
   "source": [
    "print(\"Accuracy level is =\", regressor1.score(X_test, Y_test)*100, \"%\")"
   ]
  },
  {
   "cell_type": "code",
   "execution_count": 65,
   "metadata": {},
   "outputs": [
    {
     "data": {
      "image/png": "[encoded data removed]",
      "text/plain": [
       "<Figure size 432x288 with 1 Axes>"
      ]
     },
     "metadata": {
      "needs_background": "light"
     },
     "output_type": "display_data"
    }
   ],
   "source": [
    "plt.scatter(X_train, Y_train, color = 'red')\n",
    "plt.plot(X_train, regressor1.predict(X_train) , color = 'blue')\n",
    "plt.title(\"sales prediction on TV advertisement\")\n",
    "plt.xlabel(\"Money Spent on Sale\")\n",
    "plt.ylabel(\"Sales\")\n",
    "plt.show()"
   ]
  },
  {
   "cell_type": "markdown",
   "metadata": {},
   "source": [
    "#### X = Radio Y = Sale  "
   ]
  },
  {
   "cell_type": "code",
   "execution_count": 45,
   "metadata": {},
   "outputs": [],
   "source": [
    "X = data.iloc[:, 2:3].values\n",
    "Y = data.iloc[:, -1].values"
   ]
  },
  {
   "cell_type": "code",
   "execution_count": 46,
   "metadata": {},
   "outputs": [
    {
     "data": {
      "text/plain": [
       "array([[37.8],\n",
       "       [39.3],\n",
       "       [45.9],\n",
       "       [41.3],\n",
       "       [10.8],\n",
       "       [48.9],\n",
       "       [32.8],\n",
       "       [19.6],\n",
       "       [ 2.1],\n",
       "       [ 2.6],\n",
       "       [ 5.8],\n",
       "       [24. ],\n",
       "       [35.1],\n",
       "       [ 7.6],\n",
       "       [32.9],\n",
       "       [47.7],\n",
       "       [36.6],\n",
       "       [39.6],\n",
       "       [20.5],\n",
       "       [23.9],\n",
       "       [27.7],\n",
       "       [ 5.1],\n",
       "       [15.9],\n",
       "       [16.9],\n",
       "       [12.6],\n",
       "       [ 3.5],\n",
       "       [29.3],\n",
       "       [16.7],\n",
       "       [27.1],\n",
       "       [16. ],\n",
       "       [28.3],\n",
       "       [17.4],\n",
       "       [ 1.5],\n",
       "       [20. ],\n",
       "       [ 1.4],\n",
       "       [ 4.1],\n",
       "       [43.8],\n",
       "       [49.4],\n",
       "       [26.7],\n",
       "       [37.7],\n",
       "       [22.3],\n",
       "       [33.4],\n",
       "       [27.7],\n",
       "       [ 8.4],\n",
       "       [25.7],\n",
       "       [22.5],\n",
       "       [ 9.9],\n",
       "       [41.5],\n",
       "       [15.8],\n",
       "       [11.7],\n",
       "       [ 3.1],\n",
       "       [ 9.6],\n",
       "       [41.7],\n",
       "       [46.2],\n",
       "       [28.8],\n",
       "       [49.4],\n",
       "       [28.1],\n",
       "       [19.2],\n",
       "       [49.6],\n",
       "       [29.5],\n",
       "       [ 2. ],\n",
       "       [42.7],\n",
       "       [15.5],\n",
       "       [29.6],\n",
       "       [42.8],\n",
       "       [ 9.3],\n",
       "       [24.6],\n",
       "       [14.5],\n",
       "       [27.5],\n",
       "       [43.9],\n",
       "       [30.6],\n",
       "       [14.3],\n",
       "       [33. ],\n",
       "       [ 5.7],\n",
       "       [24.6],\n",
       "       [43.7],\n",
       "       [ 1.6],\n",
       "       [28.5],\n",
       "       [29.9],\n",
       "       [ 7.7],\n",
       "       [26.7],\n",
       "       [ 4.1],\n",
       "       [20.3],\n",
       "       [44.5],\n",
       "       [43. ],\n",
       "       [18.4],\n",
       "       [27.5],\n",
       "       [40.6],\n",
       "       [25.5],\n",
       "       [47.8],\n",
       "       [ 4.9],\n",
       "       [ 1.5],\n",
       "       [33.5],\n",
       "       [36.5],\n",
       "       [14. ],\n",
       "       [31.6],\n",
       "       [ 3.5],\n",
       "       [21. ],\n",
       "       [42.3],\n",
       "       [41.7],\n",
       "       [ 4.3],\n",
       "       [36.3],\n",
       "       [10.1],\n",
       "       [17.2],\n",
       "       [34.3],\n",
       "       [46.4],\n",
       "       [11. ],\n",
       "       [ 0.3],\n",
       "       [ 0.4],\n",
       "       [26.9],\n",
       "       [ 8.2],\n",
       "       [38. ],\n",
       "       [15.4],\n",
       "       [20.6],\n",
       "       [46.8],\n",
       "       [35. ],\n",
       "       [14.3],\n",
       "       [ 0.8],\n",
       "       [36.9],\n",
       "       [16. ],\n",
       "       [26.8],\n",
       "       [21.7],\n",
       "       [ 2.4],\n",
       "       [34.6],\n",
       "       [32.3],\n",
       "       [11.8],\n",
       "       [38.9],\n",
       "       [ 0. ],\n",
       "       [49. ],\n",
       "       [12. ],\n",
       "       [39.6],\n",
       "       [ 2.9],\n",
       "       [27.2],\n",
       "       [33.5],\n",
       "       [38.6],\n",
       "       [47. ],\n",
       "       [39. ],\n",
       "       [28.9],\n",
       "       [25.9],\n",
       "       [43.9],\n",
       "       [17. ],\n",
       "       [35.4],\n",
       "       [33.2],\n",
       "       [ 5.7],\n",
       "       [14.8],\n",
       "       [ 1.9],\n",
       "       [ 7.3],\n",
       "       [49. ],\n",
       "       [40.3],\n",
       "       [25.8],\n",
       "       [13.9],\n",
       "       [ 8.4],\n",
       "       [23.3],\n",
       "       [39.7],\n",
       "       [21.1],\n",
       "       [11.6],\n",
       "       [43.5],\n",
       "       [ 1.3],\n",
       "       [36.9],\n",
       "       [18.4],\n",
       "       [18.1],\n",
       "       [35.8],\n",
       "       [18.1],\n",
       "       [36.8],\n",
       "       [14.7],\n",
       "       [ 3.4],\n",
       "       [37.6],\n",
       "       [ 5.2],\n",
       "       [23.6],\n",
       "       [10.6],\n",
       "       [11.6],\n",
       "       [20.9],\n",
       "       [20.1],\n",
       "       [ 7.1],\n",
       "       [ 3.4],\n",
       "       [48.9],\n",
       "       [30.2],\n",
       "       [ 7.8],\n",
       "       [ 2.3],\n",
       "       [10. ],\n",
       "       [ 2.6],\n",
       "       [ 5.4],\n",
       "       [ 5.7],\n",
       "       [43. ],\n",
       "       [21.3],\n",
       "       [45.1],\n",
       "       [ 2.1],\n",
       "       [28.7],\n",
       "       [13.9],\n",
       "       [12.1],\n",
       "       [41.1],\n",
       "       [10.8],\n",
       "       [ 4.1],\n",
       "       [42. ],\n",
       "       [35.6],\n",
       "       [ 3.7],\n",
       "       [ 4.9],\n",
       "       [ 9.3],\n",
       "       [42. ],\n",
       "       [ 8.6]])"
      ]
     },
     "execution_count": 46,
     "metadata": {},
     "output_type": "execute_result"
    }
   ],
   "source": [
    "X"
   ]
  },
  {
   "cell_type": "code",
   "execution_count": 47,
   "metadata": {},
   "outputs": [],
   "source": [
    "X_train, X_test, Y_train, Y_test = train_test_split(X, Y, train_size = 0.8, random_state = 0)"
   ]
  },
  {
   "cell_type": "code",
   "execution_count": 48,
   "metadata": {},
   "outputs": [
    {
     "data": {
      "text/plain": [
       "LinearRegression()"
      ]
     },
     "execution_count": 48,
     "metadata": {},
     "output_type": "execute_result"
    }
   ],
   "source": [
    "from sklearn.linear_model import LinearRegression\n",
    "regressor2 = LinearRegression()   # object of a class name LinearRegression\n",
    "regressor2.fit(X_train, Y_train)"
   ]
  },
  {
   "cell_type": "code",
   "execution_count": 49,
   "metadata": {},
   "outputs": [],
   "source": [
    "Y_predict = regressor2.predict(X_test)"
   ]
  },
  {
   "cell_type": "code",
   "execution_count": 50,
   "metadata": {},
   "outputs": [
    {
     "name": "stdout",
     "output_type": "stream",
     "text": [
      "Accuracy level is = 22.98169224191594 %\n"
     ]
    }
   ],
   "source": [
    "print(\"Accuracy level is =\", regressor2.score(X_test, Y_test)*100, \"%\")"
   ]
  },
  {
   "cell_type": "code",
   "execution_count": 63,
   "metadata": {},
   "outputs": [
    {
     "data": {
      "image/png": "[encoded data removed]",
      "text/plain": [
       "<Figure size 432x288 with 1 Axes>"
      ]
     },
     "metadata": {
      "needs_background": "light"
     },
     "output_type": "display_data"
    }
   ],
   "source": [
    "plt.scatter(X_train, Y_train, color = 'red')\n",
    "plt.plot(X_train, regressor2.predict(X_train) , color = 'blue')\n",
    "plt.title(\"sales prediction on RADIO advertisement\")\n",
    "plt.xlabel(\"Money Spent on Sale\")\n",
    "plt.ylabel(\"Sales\")\n",
    "plt.show()"
   ]
  },
  {
   "cell_type": "markdown",
   "metadata": {},
   "source": [
    "#### X = Newspaper Y = Sale "
   ]
  },
  {
   "cell_type": "code",
   "execution_count": 51,
   "metadata": {},
   "outputs": [],
   "source": [
    "X = data.iloc[:, 3:4].values\n",
    "Y = data.iloc[:, -1].values"
   ]
  },
  {
   "cell_type": "code",
   "execution_count": 52,
   "metadata": {},
   "outputs": [
    {
     "data": {
      "text/plain": [
       "array([[ 69.2],\n",
       "       [ 45.1],\n",
       "       [ 69.3],\n",
       "       [ 58.5],\n",
       "       [ 58.4],\n",
       "       [ 75. ],\n",
       "       [ 23.5],\n",
       "       [ 11.6],\n",
       "       [  1. ],\n",
       "       [ 21.2],\n",
       "       [ 24.2],\n",
       "       [  4. ],\n",
       "       [ 65.9],\n",
       "       [  7.2],\n",
       "       [ 46. ],\n",
       "       [ 52.9],\n",
       "       [114. ],\n",
       "       [ 55.8],\n",
       "       [ 18.3],\n",
       "       [ 19.1],\n",
       "       [ 53.4],\n",
       "       [ 23.5],\n",
       "       [ 49.6],\n",
       "       [ 26.2],\n",
       "       [ 18.3],\n",
       "       [ 19.5],\n",
       "       [ 12.6],\n",
       "       [ 22.9],\n",
       "       [ 22.9],\n",
       "       [ 40.8],\n",
       "       [ 43.2],\n",
       "       [ 38.6],\n",
       "       [ 30. ],\n",
       "       [  0.3],\n",
       "       [  7.4],\n",
       "       [  8.5],\n",
       "       [  5. ],\n",
       "       [ 45.7],\n",
       "       [ 35.1],\n",
       "       [ 32. ],\n",
       "       [ 31.6],\n",
       "       [ 38.7],\n",
       "       [  1.8],\n",
       "       [ 26.4],\n",
       "       [ 43.3],\n",
       "       [ 31.5],\n",
       "       [ 35.7],\n",
       "       [ 18.5],\n",
       "       [ 49.9],\n",
       "       [ 36.8],\n",
       "       [ 34.6],\n",
       "       [  3.6],\n",
       "       [ 39.6],\n",
       "       [ 58.7],\n",
       "       [ 15.9],\n",
       "       [ 60. ],\n",
       "       [ 41.4],\n",
       "       [ 16.6],\n",
       "       [ 37.7],\n",
       "       [  9.3],\n",
       "       [ 21.4],\n",
       "       [ 54.7],\n",
       "       [ 27.3],\n",
       "       [  8.4],\n",
       "       [ 28.9],\n",
       "       [  0.9],\n",
       "       [  2.2],\n",
       "       [ 10.2],\n",
       "       [ 11. ],\n",
       "       [ 27.2],\n",
       "       [ 38.7],\n",
       "       [ 31.7],\n",
       "       [ 19.3],\n",
       "       [ 31.3],\n",
       "       [ 13.1],\n",
       "       [ 89.4],\n",
       "       [ 20.7],\n",
       "       [ 14.2],\n",
       "       [  9.4],\n",
       "       [ 23.1],\n",
       "       [ 22.3],\n",
       "       [ 36.9],\n",
       "       [ 32.5],\n",
       "       [ 35.6],\n",
       "       [ 33.8],\n",
       "       [ 65.7],\n",
       "       [ 16. ],\n",
       "       [ 63.2],\n",
       "       [ 73.4],\n",
       "       [ 51.4],\n",
       "       [  9.3],\n",
       "       [ 33. ],\n",
       "       [ 59. ],\n",
       "       [ 72.3],\n",
       "       [ 10.9],\n",
       "       [ 52.9],\n",
       "       [  5.9],\n",
       "       [ 22. ],\n",
       "       [ 51.2],\n",
       "       [ 45.9],\n",
       "       [ 49.8],\n",
       "       [100.9],\n",
       "       [ 21.4],\n",
       "       [ 17.9],\n",
       "       [  5.3],\n",
       "       [ 59. ],\n",
       "       [ 29.7],\n",
       "       [ 23.2],\n",
       "       [ 25.6],\n",
       "       [  5.5],\n",
       "       [ 56.5],\n",
       "       [ 23.2],\n",
       "       [  2.4],\n",
       "       [ 10.7],\n",
       "       [ 34.5],\n",
       "       [ 52.7],\n",
       "       [ 25.6],\n",
       "       [ 14.8],\n",
       "       [ 79.2],\n",
       "       [ 22.3],\n",
       "       [ 46.2],\n",
       "       [ 50.4],\n",
       "       [ 15.6],\n",
       "       [ 12.4],\n",
       "       [ 74.2],\n",
       "       [ 25.9],\n",
       "       [ 50.6],\n",
       "       [  9.2],\n",
       "       [  3.2],\n",
       "       [ 43.1],\n",
       "       [  8.7],\n",
       "       [ 43. ],\n",
       "       [  2.1],\n",
       "       [ 45.1],\n",
       "       [ 65.6],\n",
       "       [  8.5],\n",
       "       [  9.3],\n",
       "       [ 59.7],\n",
       "       [ 20.5],\n",
       "       [  1.7],\n",
       "       [ 12.9],\n",
       "       [ 75.6],\n",
       "       [ 37.9],\n",
       "       [ 34.4],\n",
       "       [ 38.9],\n",
       "       [  9. ],\n",
       "       [  8.7],\n",
       "       [ 44.3],\n",
       "       [ 11.9],\n",
       "       [ 20.6],\n",
       "       [ 37. ],\n",
       "       [ 48.7],\n",
       "       [ 14.2],\n",
       "       [ 37.7],\n",
       "       [  9.5],\n",
       "       [  5.7],\n",
       "       [ 50.5],\n",
       "       [ 24.3],\n",
       "       [ 45.2],\n",
       "       [ 34.6],\n",
       "       [ 30.7],\n",
       "       [ 49.3],\n",
       "       [ 25.6],\n",
       "       [  7.4],\n",
       "       [  5.4],\n",
       "       [ 84.8],\n",
       "       [ 21.6],\n",
       "       [ 19.4],\n",
       "       [ 57.6],\n",
       "       [  6.4],\n",
       "       [ 18.4],\n",
       "       [ 47.4],\n",
       "       [ 17. ],\n",
       "       [ 12.8],\n",
       "       [ 13.1],\n",
       "       [ 41.8],\n",
       "       [ 20.3],\n",
       "       [ 35.2],\n",
       "       [ 23.7],\n",
       "       [ 17.6],\n",
       "       [  8.3],\n",
       "       [ 27.4],\n",
       "       [ 29.7],\n",
       "       [ 71.8],\n",
       "       [ 30. ],\n",
       "       [ 19.6],\n",
       "       [ 26.6],\n",
       "       [ 18.2],\n",
       "       [  3.7],\n",
       "       [ 23.4],\n",
       "       [  5.8],\n",
       "       [  6. ],\n",
       "       [ 31.6],\n",
       "       [  3.6],\n",
       "       [  6. ],\n",
       "       [ 13.8],\n",
       "       [  8.1],\n",
       "       [  6.4],\n",
       "       [ 66.2],\n",
       "       [  8.7]])"
      ]
     },
     "execution_count": 52,
     "metadata": {},
     "output_type": "execute_result"
    }
   ],
   "source": [
    "X"
   ]
  },
  {
   "cell_type": "code",
   "execution_count": 53,
   "metadata": {},
   "outputs": [],
   "source": [
    "X_train, X_test, Y_train, Y_test = train_test_split(X, Y, train_size = 0.8, random_state = 0)"
   ]
  },
  {
   "cell_type": "code",
   "execution_count": 54,
   "metadata": {},
   "outputs": [
    {
     "data": {
      "text/plain": [
       "LinearRegression()"
      ]
     },
     "execution_count": 54,
     "metadata": {},
     "output_type": "execute_result"
    }
   ],
   "source": [
    "from sklearn.linear_model import LinearRegression\n",
    "regressor3 = LinearRegression()   # object of a class name LinearRegression\n",
    "regressor3.fit(X_train, Y_train)"
   ]
  },
  {
   "cell_type": "code",
   "execution_count": 55,
   "metadata": {},
   "outputs": [],
   "source": [
    "Y_predict = regressor3.predict(X_test)"
   ]
  },
  {
   "cell_type": "code",
   "execution_count": 66,
   "metadata": {},
   "outputs": [
    {
     "name": "stdout",
     "output_type": "stream",
     "text": [
      "Accuracy level is = -2.121748952137348 %\n"
     ]
    }
   ],
   "source": [
    "print(\"Accuracy level is =\", regressor3.score(X_test, Y_test)*100, \"%\")"
   ]
  },
  {
   "cell_type": "code",
   "execution_count": 64,
   "metadata": {},
   "outputs": [
    {
     "data": {
      "image/png": "[encoded data removed]",
      "text/plain": [
       "<Figure size 432x288 with 1 Axes>"
      ]
     },
     "metadata": {
      "needs_background": "light"
     },
     "output_type": "display_data"
    }
   ],
   "source": [
    "plt.scatter(X_train, Y_train, color = 'red')\n",
    "plt.plot(X_train, regressor3.predict(X_train) , color = 'blue')\n",
    "plt.title(\"sales prediction on Newspaper advertisement\")\n",
    "plt.xlabel(\"Money Spent on Sale\")\n",
    "plt.ylabel(\"Sales\")\n",
    "plt.show()"
   ]
  },
  {
   "cell_type": "code",
   "execution_count": null,
   "metadata": {},
   "outputs": [],
   "source": []
  },
  {
   "cell_type": "code",
   "execution_count": null,
   "metadata": {},
   "outputs": [],
   "source": []
  }
 ],
 "metadata": {
  "kernelspec": {
   "display_name": "Python 3",
   "language": "python",
   "name": "python3"
  },
  "language_info": {
   "codemirror_mode": {
    "name": "ipython",
    "version": 3
   },
   "file_extension": ".py",
   "mimetype": "text/x-python",
   "name": "python",
   "nbconvert_exporter": "python",
   "pygments_lexer": "ipython3",
   "version": "3.6.10"
  }
 },
 "nbformat": 4,
 "nbformat_minor": 4
}
